{
 "cells": [
  {
   "attachments": {},
   "cell_type": "markdown",
   "metadata": {},
   "source": [
    "# Crop Recommender System for Smart Agriculture\n",
    "#### By Ubong Ben\n"
   ]
  },
  {
   "attachments": {},
   "cell_type": "markdown",
   "metadata": {},
   "source": [
    "### INTRODUCTION\n",
    "\n",
    "Agriculture, the backbone of civilizations since time immemorial, plays a pivotal role in the development and sustenance of nations (Savory and Duncan, 2016). Sustainable agriculture has been ascertained as one of the pillers for ensuring food security, driving economic growth, fostering rural development,and spuring technological advancements (Nadiia et al., 2019). Several researchers as well as practitioner have decried the criticality of recognizing and prioritizing investments in agriculture, implement sustainable practices, and support farmers and rural communities to harness the full potential of this vital sector. This brings smart agriculture into context. \n",
    "\n",
    "Climate change have been recognized as one of the most influencial hinderers of smart agriculture around the world. Climate change impacts agriculture's sustainability through different factors affecting the economy, food security, and decision-makers’ choices (Karimi et al., 2018). While there have been advances in the improvement of soil through fertilizer optimization, farmers are still suffering from poor decisions with regards to selecting the right crops for cultivations at a particular time and in a particular location. \n",
    "\n",
    "This project would focuses on the design of a rubost machine learning model that would intelligently recommend the most suitable crop to be planted based on on the climate condition of at a particular geographic location and season. "
   ]
  },
  {
   "attachments": {},
   "cell_type": "markdown",
   "metadata": {},
   "source": [
    "### Project Objective\n",
    "To develop a intelligent system for the recommendation of crops based on in situ climatic indices."
   ]
  },
  {
   "attachments": {},
   "cell_type": "markdown",
   "metadata": {},
   "source": [
    " ### Importing libraries"
   ]
  },
  {
   "cell_type": "code",
   "execution_count": 33,
   "metadata": {},
   "outputs": [],
   "source": [
    "#basic data wrangling and plotting libraries\n",
    "import numpy as np\n",
    "import pandas as pd\n",
    "import seaborn as sns\n",
    "import matplotlib.pyplot as plt\n",
    "\n",
    "#sklearn for maching learning\n",
    "from sklearn import metrics\n",
    "from sklearn import tree\n",
    "from sklearn.metrics import classification_report\n",
    "from sklearn.model_selection import train_test_split\n",
    "import pickle\n",
    "\n",
    "from sklearn.linear_model import LogisticRegression\n",
    "from sklearn.tree import DecisionTreeClassifier\n",
    "from sklearn.naive_bayes import GaussianNB\n",
    "from sklearn.svm import SVC\n",
    "from sklearn.ensemble import RandomForestClassifier\n",
    "\n",
    "# data normalization with sklearn\n",
    "from sklearn.preprocessing import MinMaxScaler\n",
    "from sklearn.model_selection import cross_val_score\n",
    "from sklearn.preprocessing import LabelEncoder\n",
    "\n",
    "\n",
    "#to eliminate ugly warnings\n",
    "import warnings\n",
    "warnings.filterwarnings('ignore')"
   ]
  },
  {
   "attachments": {},
   "cell_type": "markdown",
   "metadata": {},
   "source": [
    "## Exploratory Data Analysis"
   ]
  },
  {
   "cell_type": "code",
   "execution_count": 2,
   "metadata": {},
   "outputs": [],
   "source": [
    "#import dataet\n",
    "df = pd.read_csv('../Data/crop_climate_dataset.csv')"
   ]
  },
  {
   "cell_type": "code",
   "execution_count": 3,
   "metadata": {},
   "outputs": [
    {
     "data": {
      "text/html": [
       "<div>\n",
       "<style scoped>\n",
       "    .dataframe tbody tr th:only-of-type {\n",
       "        vertical-align: middle;\n",
       "    }\n",
       "\n",
       "    .dataframe tbody tr th {\n",
       "        vertical-align: top;\n",
       "    }\n",
       "\n",
       "    .dataframe thead th {\n",
       "        text-align: right;\n",
       "    }\n",
       "</style>\n",
       "<table border=\"1\" class=\"dataframe\">\n",
       "  <thead>\n",
       "    <tr style=\"text-align: right;\">\n",
       "      <th></th>\n",
       "      <th>N</th>\n",
       "      <th>P</th>\n",
       "      <th>K</th>\n",
       "      <th>temperature</th>\n",
       "      <th>humidity</th>\n",
       "      <th>ph</th>\n",
       "      <th>rainfall</th>\n",
       "      <th>label</th>\n",
       "    </tr>\n",
       "  </thead>\n",
       "  <tbody>\n",
       "    <tr>\n",
       "      <th>0</th>\n",
       "      <td>90</td>\n",
       "      <td>42</td>\n",
       "      <td>43</td>\n",
       "      <td>20.879744</td>\n",
       "      <td>82.002744</td>\n",
       "      <td>6.502985</td>\n",
       "      <td>202.935536</td>\n",
       "      <td>rice</td>\n",
       "    </tr>\n",
       "    <tr>\n",
       "      <th>1</th>\n",
       "      <td>85</td>\n",
       "      <td>58</td>\n",
       "      <td>41</td>\n",
       "      <td>21.770462</td>\n",
       "      <td>80.319644</td>\n",
       "      <td>7.038096</td>\n",
       "      <td>226.655537</td>\n",
       "      <td>rice</td>\n",
       "    </tr>\n",
       "    <tr>\n",
       "      <th>2</th>\n",
       "      <td>60</td>\n",
       "      <td>55</td>\n",
       "      <td>44</td>\n",
       "      <td>23.004459</td>\n",
       "      <td>82.320763</td>\n",
       "      <td>7.840207</td>\n",
       "      <td>263.964248</td>\n",
       "      <td>rice</td>\n",
       "    </tr>\n",
       "    <tr>\n",
       "      <th>3</th>\n",
       "      <td>74</td>\n",
       "      <td>35</td>\n",
       "      <td>40</td>\n",
       "      <td>26.491096</td>\n",
       "      <td>80.158363</td>\n",
       "      <td>6.980401</td>\n",
       "      <td>242.864034</td>\n",
       "      <td>rice</td>\n",
       "    </tr>\n",
       "    <tr>\n",
       "      <th>4</th>\n",
       "      <td>78</td>\n",
       "      <td>42</td>\n",
       "      <td>42</td>\n",
       "      <td>20.130175</td>\n",
       "      <td>81.604873</td>\n",
       "      <td>7.628473</td>\n",
       "      <td>262.717340</td>\n",
       "      <td>rice</td>\n",
       "    </tr>\n",
       "  </tbody>\n",
       "</table>\n",
       "</div>"
      ],
      "text/plain": [
       "    N   P   K  temperature   humidity        ph    rainfall label\n",
       "0  90  42  43    20.879744  82.002744  6.502985  202.935536  rice\n",
       "1  85  58  41    21.770462  80.319644  7.038096  226.655537  rice\n",
       "2  60  55  44    23.004459  82.320763  7.840207  263.964248  rice\n",
       "3  74  35  40    26.491096  80.158363  6.980401  242.864034  rice\n",
       "4  78  42  42    20.130175  81.604873  7.628473  262.717340  rice"
      ]
     },
     "execution_count": 3,
     "metadata": {},
     "output_type": "execute_result"
    }
   ],
   "source": [
    "#have a peek into the dataset to obtain general knowledge\n",
    "df.head()"
   ]
  },
  {
   "cell_type": "code",
   "execution_count": 4,
   "metadata": {},
   "outputs": [
    {
     "data": {
      "text/html": [
       "<div>\n",
       "<style scoped>\n",
       "    .dataframe tbody tr th:only-of-type {\n",
       "        vertical-align: middle;\n",
       "    }\n",
       "\n",
       "    .dataframe tbody tr th {\n",
       "        vertical-align: top;\n",
       "    }\n",
       "\n",
       "    .dataframe thead th {\n",
       "        text-align: right;\n",
       "    }\n",
       "</style>\n",
       "<table border=\"1\" class=\"dataframe\">\n",
       "  <thead>\n",
       "    <tr style=\"text-align: right;\">\n",
       "      <th></th>\n",
       "      <th>N</th>\n",
       "      <th>P</th>\n",
       "      <th>K</th>\n",
       "      <th>temperature</th>\n",
       "      <th>humidity</th>\n",
       "      <th>ph</th>\n",
       "      <th>rainfall</th>\n",
       "      <th>label</th>\n",
       "    </tr>\n",
       "  </thead>\n",
       "  <tbody>\n",
       "    <tr>\n",
       "      <th>2195</th>\n",
       "      <td>107</td>\n",
       "      <td>34</td>\n",
       "      <td>32</td>\n",
       "      <td>26.774637</td>\n",
       "      <td>66.413269</td>\n",
       "      <td>6.780064</td>\n",
       "      <td>177.774507</td>\n",
       "      <td>coffee</td>\n",
       "    </tr>\n",
       "    <tr>\n",
       "      <th>2196</th>\n",
       "      <td>99</td>\n",
       "      <td>15</td>\n",
       "      <td>27</td>\n",
       "      <td>27.417112</td>\n",
       "      <td>56.636362</td>\n",
       "      <td>6.086922</td>\n",
       "      <td>127.924610</td>\n",
       "      <td>coffee</td>\n",
       "    </tr>\n",
       "    <tr>\n",
       "      <th>2197</th>\n",
       "      <td>118</td>\n",
       "      <td>33</td>\n",
       "      <td>30</td>\n",
       "      <td>24.131797</td>\n",
       "      <td>67.225123</td>\n",
       "      <td>6.362608</td>\n",
       "      <td>173.322839</td>\n",
       "      <td>coffee</td>\n",
       "    </tr>\n",
       "    <tr>\n",
       "      <th>2198</th>\n",
       "      <td>117</td>\n",
       "      <td>32</td>\n",
       "      <td>34</td>\n",
       "      <td>26.272418</td>\n",
       "      <td>52.127394</td>\n",
       "      <td>6.758793</td>\n",
       "      <td>127.175293</td>\n",
       "      <td>coffee</td>\n",
       "    </tr>\n",
       "    <tr>\n",
       "      <th>2199</th>\n",
       "      <td>104</td>\n",
       "      <td>18</td>\n",
       "      <td>30</td>\n",
       "      <td>23.603016</td>\n",
       "      <td>60.396475</td>\n",
       "      <td>6.779833</td>\n",
       "      <td>140.937041</td>\n",
       "      <td>coffee</td>\n",
       "    </tr>\n",
       "  </tbody>\n",
       "</table>\n",
       "</div>"
      ],
      "text/plain": [
       "        N   P   K  temperature   humidity        ph    rainfall   label\n",
       "2195  107  34  32    26.774637  66.413269  6.780064  177.774507  coffee\n",
       "2196   99  15  27    27.417112  56.636362  6.086922  127.924610  coffee\n",
       "2197  118  33  30    24.131797  67.225123  6.362608  173.322839  coffee\n",
       "2198  117  32  34    26.272418  52.127394  6.758793  127.175293  coffee\n",
       "2199  104  18  30    23.603016  60.396475  6.779833  140.937041  coffee"
      ]
     },
     "execution_count": 4,
     "metadata": {},
     "output_type": "execute_result"
    }
   ],
   "source": [
    "#Lets hope that there are no mechanical inputs at the end. Morevover, how large is out dataset\n",
    "df.tail()"
   ]
  },
  {
   "cell_type": "code",
   "execution_count": 5,
   "metadata": {},
   "outputs": [
    {
     "data": {
      "text/plain": [
       "(2200, 8)"
      ]
     },
     "execution_count": 5,
     "metadata": {},
     "output_type": "execute_result"
    }
   ],
   "source": [
    "#lets see the shape\n",
    "df.shape"
   ]
  },
  {
   "cell_type": "code",
   "execution_count": 6,
   "metadata": {},
   "outputs": [
    {
     "data": {
      "text/plain": [
       "Index(['N', 'P', 'K', 'temperature', 'humidity', 'ph', 'rainfall', 'label'], dtype='object')"
      ]
     },
     "execution_count": 6,
     "metadata": {},
     "output_type": "execute_result"
    }
   ],
   "source": [
    "#Let us get a list of the columns\n",
    "df.columns"
   ]
  },
  {
   "cell_type": "code",
   "execution_count": 7,
   "metadata": {},
   "outputs": [
    {
     "data": {
      "text/plain": [
       "array(['rice', 'maize', 'chickpea', 'kidneybeans', 'pigeonpeas',\n",
       "       'mothbeans', 'mungbean', 'blackgram', 'lentil', 'pomegranate',\n",
       "       'banana', 'mango', 'grapes', 'watermelon', 'muskmelon', 'apple',\n",
       "       'orange', 'papaya', 'coconut', 'cotton', 'jute', 'coffee'],\n",
       "      dtype=object)"
      ]
     },
     "execution_count": 7,
     "metadata": {},
     "output_type": "execute_result"
    }
   ],
   "source": [
    "#Now we wish to recommend crops that could be planted. What crops are available for our dataset?\n",
    "\n",
    "df['label'].unique()"
   ]
  },
  {
   "cell_type": "code",
   "execution_count": 8,
   "metadata": {
    "scrolled": true
   },
   "outputs": [
    {
     "data": {
      "text/plain": [
       "N                int64\n",
       "P                int64\n",
       "K                int64\n",
       "temperature    float64\n",
       "humidity       float64\n",
       "ph             float64\n",
       "rainfall       float64\n",
       "label           object\n",
       "dtype: object"
      ]
     },
     "execution_count": 8,
     "metadata": {},
     "output_type": "execute_result"
    }
   ],
   "source": [
    "#Are our data types acceptable, machine learning models mosly work well on integers and floats.\n",
    "df.dtypes"
   ]
  },
  {
   "attachments": {},
   "cell_type": "markdown",
   "metadata": {},
   "source": [
    "Seems that all our featurs are in order"
   ]
  },
  {
   "cell_type": "code",
   "execution_count": 9,
   "metadata": {},
   "outputs": [
    {
     "data": {
      "text/plain": [
       "rice           100\n",
       "maize          100\n",
       "jute           100\n",
       "cotton         100\n",
       "coconut        100\n",
       "papaya         100\n",
       "orange         100\n",
       "apple          100\n",
       "muskmelon      100\n",
       "watermelon     100\n",
       "grapes         100\n",
       "mango          100\n",
       "banana         100\n",
       "pomegranate    100\n",
       "lentil         100\n",
       "blackgram      100\n",
       "mungbean       100\n",
       "mothbeans      100\n",
       "pigeonpeas     100\n",
       "kidneybeans    100\n",
       "chickpea       100\n",
       "coffee         100\n",
       "Name: label, dtype: int64"
      ]
     },
     "execution_count": 9,
     "metadata": {},
     "output_type": "execute_result"
    }
   ],
   "source": [
    "#Let us check for bias. We will not want information for some features to be over skewed when compared to other features. \n",
    "df['label'].value_counts()"
   ]
  },
  {
   "cell_type": "code",
   "execution_count": 10,
   "metadata": {
    "scrolled": true
   },
   "outputs": [
    {
     "data": {
      "text/plain": [
       "<AxesSubplot:>"
      ]
     },
     "execution_count": 10,
     "metadata": {},
     "output_type": "execute_result"
    },
    {
     "data": {
      "image/png": "[encoded data removed]",
      "text/plain": [
       "<Figure size 432x288 with 2 Axes>"
      ]
     },
     "metadata": {
      "needs_background": "light"
     },
     "output_type": "display_data"
    }
   ],
   "source": [
    "#We now need to check for correlation. If our features are too correlated, they may leak information to the label\n",
    "sns.heatmap(df.corr(),annot=True)"
   ]
  },
  {
   "attachments": {},
   "cell_type": "markdown",
   "metadata": {},
   "source": [
    "There does not seem to be any outragous correlations"
   ]
  },
  {
   "attachments": {},
   "cell_type": "markdown",
   "metadata": {},
   "source": [
    "## Feature Engineering"
   ]
  },
  {
   "attachments": {},
   "cell_type": "markdown",
   "metadata": {},
   "source": [
    "We will need to seperate the label from the features before carrying out any machine learning activity"
   ]
  },
  {
   "cell_type": "code",
   "execution_count": 11,
   "metadata": {},
   "outputs": [],
   "source": [
    "#drop label column to create features and isolate the column to obtain target\n",
    "X = df.drop('label', axis=1)\n",
    "y = df['label']\n",
    "\n"
   ]
  },
  {
   "cell_type": "code",
   "execution_count": 12,
   "metadata": {},
   "outputs": [],
   "source": [
    "# Initialzing empty lists to append all model's name and corresponding name\n",
    "acc = []\n",
    "model = []"
   ]
  },
  {
   "attachments": {},
   "cell_type": "markdown",
   "metadata": {},
   "source": [
    "Considering that we had already ascertained that our data is suitable for modelling operation. We now split it into training and testing datasets. "
   ]
  },
  {
   "cell_type": "code",
   "execution_count": 13,
   "metadata": {},
   "outputs": [],
   "source": [
    "# Splitting into train and test data. random_state is for reproducability\n",
    "X_train, X_test, y_train, y_test = train_test_split(X,y,test_size = 0.3,random_state =2)"
   ]
  },
  {
   "attachments": {},
   "cell_type": "markdown",
   "metadata": {},
   "source": [
    "# Modelling"
   ]
  },
  {
   "attachments": {},
   "cell_type": "markdown",
   "metadata": {},
   "source": [
    "For the recommender system and for this project, we would be trialing six machine learning models. The model with the best performance would subsequently be adopted for our smart crop system. The models we would use are:\n",
    "\n",
    "* Logistic Regression model\n",
    "* Random forest model\n",
    "* Support vector machine\n",
    "* Decision tree model\n",
    "* Guassian Naive Bayes model\n",
    "* XGBoost model\n",
    "\n"
   ]
  },
  {
   "attachments": {},
   "cell_type": "markdown",
   "metadata": {},
   "source": [
    "# Logistic Regression\n",
    "\n",
    "\n",
    "Logistic Regression:\n",
    "Logistic regression is a widely used statistical model for binary classification. It assumes a linear relationship between the predictors and the logarithm of the odds of the event. By fitting the data to a logistic curve, it predicts the probability of an event occurring. \n"
   ]
  },
  {
   "cell_type": "code",
   "execution_count": 14,
   "metadata": {
    "scrolled": true
   },
   "outputs": [
    {
     "name": "stdout",
     "output_type": "stream",
     "text": [
      "Accuracy (Logistic Regression): 0.9621212121212122\n",
      "              precision    recall  f1-score   support\n",
      "\n",
      "       apple       1.00      1.00      1.00        28\n",
      "      banana       1.00      1.00      1.00        26\n",
      "   blackgram       0.92      0.82      0.87        28\n",
      "    chickpea       1.00      1.00      1.00        29\n",
      "     coconut       1.00      1.00      1.00        31\n",
      "      coffee       1.00      1.00      1.00        33\n",
      "      cotton       0.91      0.94      0.92        31\n",
      "      grapes       1.00      1.00      1.00        29\n",
      "        jute       0.86      0.94      0.90        33\n",
      " kidneybeans       0.97      1.00      0.98        30\n",
      "      lentil       0.91      1.00      0.96        32\n",
      "       maize       0.94      0.91      0.92        32\n",
      "       mango       0.97      1.00      0.99        33\n",
      "   mothbeans       0.83      0.83      0.83        29\n",
      "    mungbean       1.00      1.00      1.00        32\n",
      "   muskmelon       1.00      1.00      1.00        30\n",
      "      orange       1.00      1.00      1.00        42\n",
      "      papaya       0.97      0.93      0.95        30\n",
      "  pigeonpeas       1.00      0.97      0.98        31\n",
      " pomegranate       1.00      1.00      1.00        19\n",
      "        rice       0.93      0.83      0.88        30\n",
      "  watermelon       1.00      1.00      1.00        22\n",
      "\n",
      "    accuracy                           0.96       660\n",
      "   macro avg       0.96      0.96      0.96       660\n",
      "weighted avg       0.96      0.96      0.96       660\n",
      "\n"
     ]
    }
   ],
   "source": [
    "log_regression = LogisticRegression(random_state=2)\n",
    "\n",
    "log_regression.fit(X_train,y_train)\n",
    "\n",
    "y_predict = log_regression.predict(X_test)\n",
    "\n",
    "accuracy = metrics.accuracy_score(y_test, y_predict)\n",
    "acc.append(accuracy)\n",
    "model.append('Logistic Regression')\n",
    "\n",
    "# compute accuracy\n",
    "print(\"Accuracy (Logistic Regression):\", accuracy)\n",
    "\n",
    "#classification report for logistic regression\n",
    "print(classification_report(y_test,y_predict))"
   ]
  },
  {
   "cell_type": "code",
   "execution_count": 15,
   "metadata": {},
   "outputs": [
    {
     "name": "stdout",
     "output_type": "stream",
     "text": [
      "Cross_val score:  [0.95       0.96590909 0.94772727 0.96818182 0.94318182]\n"
     ]
    }
   ],
   "source": [
    "# canculate cross validation score\n",
    "cross_val = cross_val_score(log_regression,X,y,cv=5)\n",
    "print('Cross_val score: ', cross_val)"
   ]
  },
  {
   "attachments": {},
   "cell_type": "markdown",
   "metadata": {},
   "source": [
    "# Random Forest"
   ]
  },
  {
   "attachments": {},
   "cell_type": "markdown",
   "metadata": {},
   "source": [
    "The algorithm is based on the concept of ensemble learning, which is a process of combining multiple classifiers to solve a complex problem and to improve the performance of the model. It operates by constructing a multitude of decision trees at training time."
   ]
  },
  {
   "attachments": {},
   "cell_type": "markdown",
   "metadata": {},
   "source": [
    "<img src=\"https://www.google.com/imgres?imgurl=https%3A%2F%2Fwww.tibco.com%2Fsites%2Ftibco%2Ffiles%2Fmedia_entity%2F2021-05%2Frandom-forest-diagram.svg&tbnid=qmwaTgaID5K4OM&vet=12ahUKEwjljdD4kY7_AhU3mScCHQ5IBQQQMygBegUIARDgAQ..i&imgrefurl=https%3A%2F%2Fwww.tibco.com%2Freference-center%2Fwhat-is-a-random-forest&docid=tWxwg9CB2qnOxM&w=820&h=627&q=random%20forest%20model&ved=2ahUKEwjljdD4kY7_AhU3mScCHQ5IBQQQMygBegUIARDgAQ\"/>\n"
   ]
  },
  {
   "cell_type": "code",
   "execution_count": 16,
   "metadata": {},
   "outputs": [
    {
     "name": "stdout",
     "output_type": "stream",
     "text": [
      "Accuracy (Random forest): 0.9893939393939394\n",
      "              precision    recall  f1-score   support\n",
      "\n",
      "       apple       1.00      1.00      1.00        28\n",
      "      banana       1.00      1.00      1.00        26\n",
      "   blackgram       0.97      1.00      0.98        28\n",
      "    chickpea       1.00      1.00      1.00        29\n",
      "     coconut       1.00      1.00      1.00        31\n",
      "      coffee       1.00      1.00      1.00        33\n",
      "      cotton       1.00      1.00      1.00        31\n",
      "      grapes       1.00      1.00      1.00        29\n",
      "        jute       0.89      0.94      0.91        33\n",
      " kidneybeans       1.00      1.00      1.00        30\n",
      "      lentil       1.00      1.00      1.00        32\n",
      "       maize       1.00      1.00      1.00        32\n",
      "       mango       1.00      1.00      1.00        33\n",
      "   mothbeans       1.00      0.97      0.98        29\n",
      "    mungbean       1.00      1.00      1.00        32\n",
      "   muskmelon       1.00      1.00      1.00        30\n",
      "      orange       1.00      1.00      1.00        42\n",
      "      papaya       1.00      1.00      1.00        30\n",
      "  pigeonpeas       1.00      1.00      1.00        31\n",
      " pomegranate       1.00      1.00      1.00        19\n",
      "        rice       0.93      0.87      0.90        30\n",
      "  watermelon       1.00      1.00      1.00        22\n",
      "\n",
      "    accuracy                           0.99       660\n",
      "   macro avg       0.99      0.99      0.99       660\n",
      "weighted avg       0.99      0.99      0.99       660\n",
      "\n"
     ]
    }
   ],
   "source": [
    "random_forest = RandomForestClassifier(n_estimators=20, random_state=0)\n",
    "random_forest.fit(X_train,y_train)\n",
    "\n",
    "y_predict = random_forest.predict(X_test)\n",
    "\n",
    "accuracy = metrics.accuracy_score(y_test, y_predict)\n",
    "acc.append(accuracy)\n",
    "model.append('Random Forest')\n",
    "\n",
    "# compute accuracy\n",
    "print(\"Accuracy (Random forest):\", accuracy)\n",
    "\n",
    "#classification report for logistic regression\n",
    "print(classification_report(y_test,y_predict))"
   ]
  },
  {
   "cell_type": "code",
   "execution_count": 17,
   "metadata": {},
   "outputs": [
    {
     "name": "stdout",
     "output_type": "stream",
     "text": [
      "Cross_val score:  [0.99772727 0.99545455 0.99772727 0.99318182 0.98863636]\n"
     ]
    }
   ],
   "source": [
    "# canculate cross validation score\n",
    "cross_val = cross_val_score(random_forest,X,y,cv=5)\n",
    "print('Cross_val score: ', cross_val)"
   ]
  },
  {
   "cell_type": "code",
   "execution_count": null,
   "metadata": {},
   "outputs": [],
   "source": []
  },
  {
   "attachments": {},
   "cell_type": "markdown",
   "metadata": {},
   "source": [
    "# Decision Tree\n",
    "\n",
    "The decision tree model is a powerful tool in machine learning It is a graphical representation of a series of decisions and their potential outcomes, resembling a tree structure. Each internal node represents a decision based on a specific feature, while each leaf node represents a class label or a final outcome. By recursively splitting the dataset based on different attributes, decision trees effectively partition the data, enabling accurate predictions and insights. "
   ]
  },
  {
   "cell_type": "code",
   "execution_count": 18,
   "metadata": {},
   "outputs": [
    {
     "name": "stdout",
     "output_type": "stream",
     "text": [
      "Accuracy (Decision Tree): 0.8590909090909091\n",
      "              precision    recall  f1-score   support\n",
      "\n",
      "       apple       1.00      1.00      1.00        28\n",
      "      banana       1.00      1.00      1.00        26\n",
      "   blackgram       0.65      1.00      0.79        28\n",
      "    chickpea       1.00      1.00      1.00        29\n",
      "     coconut       0.94      1.00      0.97        31\n",
      "      coffee       1.00      1.00      1.00        33\n",
      "      cotton       1.00      0.97      0.98        31\n",
      "      grapes       1.00      1.00      1.00        29\n",
      "        jute       0.50      0.03      0.06        33\n",
      " kidneybeans       0.00      0.00      0.00        30\n",
      "      lentil       0.63      1.00      0.77        32\n",
      "       maize       0.97      1.00      0.98        32\n",
      "       mango       1.00      1.00      1.00        33\n",
      "   mothbeans       0.00      0.00      0.00        29\n",
      "    mungbean       1.00      1.00      1.00        32\n",
      "   muskmelon       1.00      1.00      1.00        30\n",
      "      orange       1.00      1.00      1.00        42\n",
      "      papaya       1.00      1.00      1.00        30\n",
      "  pigeonpeas       0.55      1.00      0.71        31\n",
      " pomegranate       1.00      1.00      1.00        19\n",
      "        rice       0.49      0.97      0.65        30\n",
      "  watermelon       1.00      1.00      1.00        22\n",
      "\n",
      "    accuracy                           0.86       660\n",
      "   macro avg       0.81      0.86      0.81       660\n",
      "weighted avg       0.80      0.86      0.81       660\n",
      "\n"
     ]
    }
   ],
   "source": [
    "Decision_tree = DecisionTreeClassifier(criterion=\"entropy\",random_state=2,max_depth=5)\n",
    "\n",
    "Decision_tree.fit(X_train,y_train)\n",
    "\n",
    "y_predict = Decision_tree.predict(X_test)\n",
    "\n",
    "accuracy = metrics.accuracy_score(y_test, y_predict)\n",
    "acc.append(accuracy)\n",
    "model.append('Decision Tree')\n",
    "\n",
    "# compute accuracy\n",
    "print(\"Accuracy (Decision Tree):\", accuracy)\n",
    "\n",
    "#classification report for logistic regression\n",
    "print(classification_report(y_test,y_predict))"
   ]
  },
  {
   "cell_type": "code",
   "execution_count": 19,
   "metadata": {},
   "outputs": [
    {
     "name": "stdout",
     "output_type": "stream",
     "text": [
      "Cross validation score:  [0.93636364 0.90909091 0.91818182 0.87045455 0.93636364]\n"
     ]
    }
   ],
   "source": [
    "# Cross validation score (Decision Tree)\n",
    "cross_val = cross_val_score(Decision_tree, X,y,cv=5)\n",
    "print('Cross validation score: ', cross_val)"
   ]
  },
  {
   "cell_type": "code",
   "execution_count": null,
   "metadata": {},
   "outputs": [],
   "source": []
  },
  {
   "attachments": {},
   "cell_type": "markdown",
   "metadata": {},
   "source": [
    "# Guassian Naive Bayes\n",
    "\n",
    "Gaussian Naive Bayes is a machine learning algorithm based on the Bayes' theorem and the assumption of feature independence. It assumes that the features follow a Gaussian distribution. The model calculates the conditional probability of each class of given the features and selects the class with the highest probability as the prediction. "
   ]
  },
  {
   "cell_type": "code",
   "execution_count": 20,
   "metadata": {},
   "outputs": [
    {
     "name": "stdout",
     "output_type": "stream",
     "text": [
      "Accuracy (Guassian Naive baise): 0.9924242424242424\n",
      "              precision    recall  f1-score   support\n",
      "\n",
      "       apple       1.00      1.00      1.00        28\n",
      "      banana       1.00      1.00      1.00        26\n",
      "   blackgram       1.00      1.00      1.00        28\n",
      "    chickpea       1.00      1.00      1.00        29\n",
      "     coconut       1.00      1.00      1.00        31\n",
      "      coffee       1.00      1.00      1.00        33\n",
      "      cotton       1.00      1.00      1.00        31\n",
      "      grapes       1.00      1.00      1.00        29\n",
      "        jute       0.89      0.97      0.93        33\n",
      " kidneybeans       1.00      1.00      1.00        30\n",
      "      lentil       1.00      1.00      1.00        32\n",
      "       maize       1.00      1.00      1.00        32\n",
      "       mango       1.00      1.00      1.00        33\n",
      "   mothbeans       1.00      1.00      1.00        29\n",
      "    mungbean       1.00      1.00      1.00        32\n",
      "   muskmelon       1.00      1.00      1.00        30\n",
      "      orange       1.00      1.00      1.00        42\n",
      "      papaya       1.00      1.00      1.00        30\n",
      "  pigeonpeas       1.00      1.00      1.00        31\n",
      " pomegranate       1.00      1.00      1.00        19\n",
      "        rice       0.96      0.87      0.91        30\n",
      "  watermelon       1.00      1.00      1.00        22\n",
      "\n",
      "    accuracy                           0.99       660\n",
      "   macro avg       0.99      0.99      0.99       660\n",
      "weighted avg       0.99      0.99      0.99       660\n",
      "\n"
     ]
    }
   ],
   "source": [
    "Naive_b = GaussianNB()\n",
    "\n",
    "Naive_b.fit(X_train,y_train)\n",
    "\n",
    "y_predict = Naive_b.predict(X_test)\n",
    "\n",
    "accuracy = metrics.accuracy_score(y_test, y_predict)\n",
    "acc.append(accuracy)\n",
    "model.append('Guassian Naive baise')\n",
    "\n",
    "# compute accuracy\n",
    "print(\"Accuracy (Guassian Naive baise):\", accuracy)\n",
    "\n",
    "#classification report for logistic regression\n",
    "print(classification_report(y_test,y_predict))"
   ]
  },
  {
   "cell_type": "code",
   "execution_count": 21,
   "metadata": {},
   "outputs": [
    {
     "name": "stdout",
     "output_type": "stream",
     "text": [
      "Cross validation score:  [0.99772727 0.99545455 0.99545455 0.99545455 0.99090909]\n"
     ]
    }
   ],
   "source": [
    "# Cross validation score (NaiveBayes)\n",
    "cross_val = cross_val_score(Naive_b,X,y,cv=5)\n",
    "print('Cross validation score: ', cross_val)"
   ]
  },
  {
   "attachments": {},
   "cell_type": "markdown",
   "metadata": {},
   "source": [
    "# Support Vector Machine (SVM)\n",
    "\n",
    "Support Vector Machine (SVM) is a powerful supervised learning algorithm used for both classification and regression tasks. It aims to find an optimal hyperplane that separates the data into different classes, maximizing the margin between them. SVMs are particularly effective in handling both linearly separable and non-linearly separable datasets through the use of kernel functions. The algorithm identifies support vectors, which are the data points closest to the decision boundary, and uses them to make predictions. "
   ]
  },
  {
   "cell_type": "code",
   "execution_count": 22,
   "metadata": {},
   "outputs": [
    {
     "name": "stdout",
     "output_type": "stream",
     "text": [
      "Accuracy (Support Vector Machine): 0.9833333333333333\n",
      "              precision    recall  f1-score   support\n",
      "\n",
      "       apple       1.00      1.00      1.00        28\n",
      "      banana       1.00      1.00      1.00        26\n",
      "   blackgram       1.00      1.00      1.00        28\n",
      "    chickpea       1.00      1.00      1.00        29\n",
      "     coconut       1.00      1.00      1.00        31\n",
      "      coffee       1.00      0.97      0.98        33\n",
      "      cotton       0.97      1.00      0.98        31\n",
      "      grapes       1.00      1.00      1.00        29\n",
      "        jute       0.85      0.88      0.87        33\n",
      " kidneybeans       1.00      1.00      1.00        30\n",
      "      lentil       0.97      1.00      0.98        32\n",
      "       maize       1.00      0.97      0.98        32\n",
      "       mango       1.00      1.00      1.00        33\n",
      "   mothbeans       1.00      0.97      0.98        29\n",
      "    mungbean       1.00      1.00      1.00        32\n",
      "   muskmelon       1.00      1.00      1.00        30\n",
      "      orange       1.00      1.00      1.00        42\n",
      "      papaya       1.00      1.00      1.00        30\n",
      "  pigeonpeas       1.00      1.00      1.00        31\n",
      " pomegranate       1.00      1.00      1.00        19\n",
      "        rice       0.87      0.87      0.87        30\n",
      "  watermelon       1.00      1.00      1.00        22\n",
      "\n",
      "    accuracy                           0.98       660\n",
      "   macro avg       0.98      0.98      0.98       660\n",
      "weighted avg       0.98      0.98      0.98       660\n",
      "\n"
     ]
    }
   ],
   "source": [
    "# fit scaler on training data\n",
    "scaler = MinMaxScaler().fit(X_train)\n",
    "X_train_normalized = scaler.transform(X_train)\n",
    "\n",
    "# transform testing dataabs\n",
    "X_test_normalized = scaler.transform(X_test)\n",
    "SVM = SVC(kernel='poly', degree=3, C=1)\n",
    "SVM.fit(X_train_normalized,y_train)\n",
    "y_predict  = SVM.predict(X_test_normalized)\n",
    "\n",
    "# compute accuracy\n",
    "accuracy = metrics.accuracy_score(y_test, y_predict)\n",
    "acc.append(accuracy)\n",
    "model.append('Support Vector Machine')\n",
    "\n",
    "\n",
    "print(\"Accuracy (Support Vector Machine):\", accuracy)\n",
    "\n",
    "#classification report for logistic regression\n",
    "print(classification_report(y_test,y_predict))"
   ]
  },
  {
   "cell_type": "code",
   "execution_count": 23,
   "metadata": {},
   "outputs": [
    {
     "name": "stdout",
     "output_type": "stream",
     "text": [
      "Cross validation score:  [0.97954545 0.975      0.98863636 0.98863636 0.98181818]\n"
     ]
    }
   ],
   "source": [
    "# Cross validation score \n",
    "cross_val = cross_val_score(SVM,X,y,cv=5)\n",
    "print('Cross validation score: ', cross_val)"
   ]
  },
  {
   "attachments": {},
   "cell_type": "markdown",
   "metadata": {},
   "source": [
    "# XGBoost\n",
    "\n",
    "XGBoost, short for Extreme Gradient Boosting, is a highly efficient and scalable machine learning algorithm that has gained widespread popularity in both academic research and practical applications. It is an ensemble method that combines multiple weak prediction models, usually decision trees, to create a strong predictive model. XGBoost employs a gradient boosting framework, wherein subsequent models are trained to correct the errors made by previous models. It incorporates regularization techniques to prevent overfitting and offers various hyperparameters for fine-tuning. XGBoost excels in handling large-scale datasets and provides excellent predictive performance."
   ]
  },
  {
   "cell_type": "code",
   "execution_count": 24,
   "metadata": {
    "scrolled": true
   },
   "outputs": [
    {
     "name": "stdout",
     "output_type": "stream",
     "text": [
      "Accuracy (XGBoost): 0.9954545454545455\n",
      "              precision    recall  f1-score   support\n",
      "\n",
      "       apple       1.00      1.00      1.00        28\n",
      "      banana       1.00      1.00      1.00        26\n",
      "   blackgram       1.00      1.00      1.00        28\n",
      "    chickpea       1.00      1.00      1.00        29\n",
      "     coconut       1.00      1.00      1.00        31\n",
      "      coffee       0.97      1.00      0.99        33\n",
      "      cotton       1.00      1.00      1.00        31\n",
      "      grapes       1.00      1.00      1.00        29\n",
      "        jute       1.00      0.91      0.95        33\n",
      " kidneybeans       1.00      1.00      1.00        30\n",
      "      lentil       1.00      1.00      1.00        32\n",
      "       maize       1.00      1.00      1.00        32\n",
      "       mango       1.00      1.00      1.00        33\n",
      "   mothbeans       1.00      1.00      1.00        29\n",
      "    mungbean       1.00      1.00      1.00        32\n",
      "   muskmelon       1.00      1.00      1.00        30\n",
      "      orange       1.00      1.00      1.00        42\n",
      "      papaya       1.00      1.00      1.00        30\n",
      "  pigeonpeas       1.00      1.00      1.00        31\n",
      " pomegranate       1.00      1.00      1.00        19\n",
      "        rice       0.94      1.00      0.97        30\n",
      "  watermelon       1.00      1.00      1.00        22\n",
      "\n",
      "    accuracy                           1.00       660\n",
      "   macro avg       1.00      1.00      1.00       660\n",
      "weighted avg       1.00      1.00      1.00       660\n",
      "\n"
     ]
    }
   ],
   "source": [
    "import xgboost as xgb\n",
    "XgB = xgb.XGBClassifier()\n",
    "le = LabelEncoder()\n",
    "y_train = le.fit_transform(y_train)\n",
    "\n",
    "XgB.fit(X_train,y_train)\n",
    "y_predict = XgB.predict(X_test)\n",
    "y_predict = le.inverse_transform(y_predict)\n",
    "accuracy = metrics.accuracy_score(y_test, y_predict)\n",
    "acc.append(accuracy)\n",
    "model.append('XGBoost')\n",
    "\n",
    "# compute accuracy\n",
    "print(\"Accuracy (XGBoost):\", accuracy)\n",
    "\n",
    "#classification report for logistic regression\n",
    "print(classification_report(y_test,y_predict))"
   ]
  },
  {
   "cell_type": "code",
   "execution_count": 28,
   "metadata": {},
   "outputs": [
    {
     "name": "stdout",
     "output_type": "stream",
     "text": [
      "Cross validation score:  [0.99318182 0.99318182 0.99318182 0.99090909 0.99090909]\n"
     ]
    }
   ],
   "source": [
    "# Cross validation score \n",
    "cross_val = cross_val_score(XgB,X,le.fit_transform(y),cv=5)\n",
    "print('Cross validation score: ', cross_val)"
   ]
  },
  {
   "attachments": {},
   "cell_type": "markdown",
   "metadata": {},
   "source": [
    "## Accuracy Comparison"
   ]
  },
  {
   "cell_type": "code",
   "execution_count": 29,
   "metadata": {},
   "outputs": [
    {
     "data": {
      "text/plain": [
       "<AxesSubplot:title={'center':'Accuracy Comparison'}, xlabel='Accuracy', ylabel='Algorithm'>"
      ]
     },
     "execution_count": 29,
     "metadata": {},
     "output_type": "execute_result"
    },
    {
     "data": {
      "image/png": "[encoded data removed]",
      "text/plain": [
       "<Figure size 1000x500 with 1 Axes>"
      ]
     },
     "metadata": {
      "needs_background": "light"
     },
     "output_type": "display_data"
    }
   ],
   "source": [
    "plt.figure(figsize=[10,5],dpi = 100)\n",
    "plt.title('Accuracy Comparison')\n",
    "plt.xlabel('Accuracy')\n",
    "plt.ylabel('Algorithm')\n",
    "sns.barplot(x = acc,y = model,)"
   ]
  },
  {
   "cell_type": "code",
   "execution_count": 30,
   "metadata": {},
   "outputs": [
    {
     "name": "stdout",
     "output_type": "stream",
     "text": [
      "Logistic Regression --> 0.9621212121212122\n",
      "Random Forest --> 0.9893939393939394\n",
      "Decision Tree --> 0.8590909090909091\n",
      "Guassian Naive baise --> 0.9924242424242424\n",
      "Support Vector Machine --> 0.9833333333333333\n",
      "XGBoost --> 0.9954545454545455\n"
     ]
    }
   ],
   "source": [
    "accuracy_models = dict(zip(model, acc))\n",
    "for k, v in accuracy_models.items():\n",
    "    print (k, '-->', v)"
   ]
  },
  {
   "attachments": {},
   "cell_type": "markdown",
   "metadata": {},
   "source": [
    "## Making a prediction\n",
    "Now it seems that the random forest models gives us the best performance. Let us try to use it in making a prediction"
   ]
  },
  {
   "cell_type": "code",
   "execution_count": 31,
   "metadata": {},
   "outputs": [
    {
     "name": "stdout",
     "output_type": "stream",
     "text": [
      "The best crop to cultivate in this climate is:  ['coffee']\n"
     ]
    }
   ],
   "source": [
    "data = np.array([[88,23, 30, 31.0232634, 56.782, 7.9, 151.77]])\n",
    "prediction = random_forest.predict(data)\n",
    "print('The best crop to cultivate in this climate is: ',prediction)"
   ]
  },
  {
   "attachments": {},
   "cell_type": "markdown",
   "metadata": {},
   "source": [
    "Lets try with different climatic values."
   ]
  },
  {
   "cell_type": "code",
   "execution_count": 32,
   "metadata": {},
   "outputs": [
    {
     "name": "stdout",
     "output_type": "stream",
     "text": [
      "The best product to cultivate in this climate is:  ['jute']\n"
     ]
    }
   ],
   "source": [
    "data = np.array([[77, 51, 80, 32, 73.26, 9, 125.7]])\n",
    "prediction = random_forest.predict(data)\n",
    "print('The best product to cultivate in this climate is: ',prediction)"
   ]
  },
  {
   "attachments": {},
   "cell_type": "markdown",
   "metadata": {},
   "source": [
    "Looks Good!!\n",
    "Now lets save our chosen model as a pickle file for production. "
   ]
  },
  {
   "cell_type": "code",
   "execution_count": 35,
   "metadata": {},
   "outputs": [],
   "source": [
    "#saving model as pickle file\n",
    "our_model = '../models/agricultural_model.pkl'\n",
    "# Open the file to save as pkl file\n",
    "model = open(our_model, 'wb')\n",
    "pickle.dump(random_forest, model)\n",
    "# Close the pickle instances\n",
    "model.close()"
   ]
  },
  {
   "cell_type": "code",
   "execution_count": null,
   "metadata": {},
   "outputs": [],
   "source": []
  },
  {
   "attachments": {},
   "cell_type": "markdown",
   "metadata": {},
   "source": [
    "## Conclusion\n",
    "In this project, a robust machine learning-based recommendation system was designed for the recommendation of optimal cultiviable crops based on climatatic conditions. \n"
   ]
  },
  {
   "attachments": {},
   "cell_type": "markdown",
   "metadata": {},
   "source": [
    "### References\n",
    "\n",
    "Karimi, V., Karami, E. and Keshavarz, M. (2018) ‘Climate change and agriculture: Impacts and adaptive responses in Iran’, Journal of Integrative Agriculture [Preprint]. Available at: https://doi.org/10.1016/S2095-3119(17)61794-5.\n",
    "\n",
    "Nadiia, R., Anatoliy, O. and Kateryna, K. (2019) ‘Sustainable Development of Agriculture: Modeling of Strategic Management in Transition Countries’, International Journal of Economics, Business, and Entrepreneurship [Preprint]. Available at: https://doi.org/10.23960/ijebe.v2i1.50.\n",
    "\n",
    "Savory, A. and Duncan, T. (2016) ‘Regenerating Agriculture to Sustain Civilization’, in Land Restoration: Reclaiming Landscapes for a Sustainable Future. Available at: https://doi.org/10.1016/B978-0-12-801231-4.00023-9.\n",
    "\n",
    "\n"
   ]
  }
 ],
 "metadata": {
  "kernelspec": {
   "display_name": "Python 3 (ipykernel)",
   "language": "python",
   "name": "python3"
  },
  "language_info": {
   "codemirror_mode": {
    "name": "ipython",
    "version": 3
   },
   "file_extension": ".py",
   "mimetype": "text/x-python",
   "name": "python",
   "nbconvert_exporter": "python",
   "pygments_lexer": "ipython3",
   "version": "3.9.12"
  }
 },
 "nbformat": 4,
 "nbformat_minor": 4
}
